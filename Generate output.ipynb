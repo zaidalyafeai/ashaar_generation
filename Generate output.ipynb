{
 "cells": [
  {
   "cell_type": "code",
   "execution_count": 2,
   "id": "e8247a12",
   "metadata": {
    "scrolled": true
   },
   "outputs": [
    {
     "name": "stderr",
     "output_type": "stream",
     "text": [
      "Found cached dataset parquet (/home/alyafey22/.cache/huggingface/datasets/Zaid___parquet/Zaid--ashaar_dataset-9431b392390e38a6/0.0.0/2a3b91fbd88a2c90d1dbbb32b460cf621d31bd5b05b934492fdef7d8d6f236ec)\n"
     ]
    },
    {
     "data": {
      "application/vnd.jupyter.widget-view+json": {
       "model_id": "a0022e0ad8ed4d0d82cd8107806acdcb",
       "version_major": 2,
       "version_minor": 0
      },
      "text/plain": [
       "  0%|          | 0/1 [00:00<?, ?it/s]"
      ]
     },
     "metadata": {},
     "output_type": "display_data"
    }
   ],
   "source": [
    "from datasets import load_dataset\n",
    "ashaar = load_dataset('Zaid/ashaar_dataset')"
   ]
  },
  {
   "cell_type": "code",
   "execution_count": 3,
   "id": "6b7a7c70-08a2-4d56-acf8-53cdebf5e80a",
   "metadata": {},
   "outputs": [
    {
     "data": {
      "text/plain": [
       "'<|meter_7|> <|psep|> <|bsep|> أَصبَحَ المُلك لِلَّذي فَطر الخَل <|vsep|> قَ بِتَقديرٍ للعَزيز العَليمِ </|bsep|> <|bsep|> غافر الذَنب للمسيءِ بِعَفوٍ <|vsep|> قابل التَوب ذي العَطاء العَميمِ </|bsep|> <|bsep|> مُرسل المُصطَفى البَشير ِلَينا <|vsep|> رَحمة مِنهُ بِالكَلام القَديمِ </|bsep|> <|bsep|> رَبَنا رَبّنا ِلَيكَ أَنينا <|vsep|> فَأَجرنا مِن حَر نار الجَحيمِ </|bsep|> <|bsep|> وَاكفِنا شَرّ ما نَخاف بِلُطفٍ <|vsep|> يا عَظيماً يَرجى لِكُل عَظيمِ </|bsep|> <|bsep|> وَتَقبل أَعمالَنا وَاعفُ عَنا <|vsep|> وَأَنلنا دُخول دار النَعيمِ </|bsep|> <|bsep|> بِنَبي بَعثَتهُ فَهَدانا <|vsep|> لِصِراط مِن الهُدى مُستَقيمِ </|bsep|> <|bsep|> وَبِمَن نَحنُ في حِماهُ مَدى الدَهر <|vsep|> أَخيهِ يَحيى الحصور الكَريمِ </|bsep|> <|bsep|> أَدرك أَدرك قَوماً أَتوا بافتقار <|vsep|> وَاِنكِسار وَمَدمَع مَسجومِ </|bsep|> </|psep|>'"
      ]
     },
     "execution_count": 3,
     "metadata": {},
     "output_type": "execute_result"
    }
   ],
   "source": [
    "ashaar['train'][0]['text']"
   ]
  },
  {
   "cell_type": "code",
   "execution_count": 4,
   "id": "27b5b276",
   "metadata": {},
   "outputs": [
    {
     "data": {
      "text/plain": [
       "DatasetDict({\n",
       "    train: Dataset({\n",
       "        features: ['poem title', 'poem meter', 'poem verses', 'poem theme', 'poem url', 'poet name', 'poet description', 'poet url', 'poet era', 'poet location', 'poem description', 'poem language type', 'text'],\n",
       "        num_rows: 144188\n",
       "    })\n",
       "})"
      ]
     },
     "execution_count": 4,
     "metadata": {},
     "output_type": "execute_result"
    }
   ],
   "source": [
    "ashaar"
   ]
  },
  {
   "cell_type": "code",
   "execution_count": 5,
   "id": "d321e5b0",
   "metadata": {},
   "outputs": [
    {
     "name": "stdout",
     "output_type": "stream",
     "text": [
      "{'input_ids': tensor([[1]]), 'attention_mask': tensor([[1]])}\n"
     ]
    }
   ],
   "source": [
    "from transformers import AutoTokenizer, AutoModelForCausalLM\n",
    "gpt_tokenizer = AutoTokenizer.from_pretrained('Zaid/ashaar_tokenizer')\n",
    "encoded_input = gpt_tokenizer(['<|psep|>'], return_tensors='pt')\n",
    "print(encoded_input)"
   ]
  },
  {
   "cell_type": "code",
   "execution_count": 6,
   "id": "462f0541-c72b-42f8-a228-072865115bce",
   "metadata": {},
   "outputs": [],
   "source": [
    "meter_to_token = {'المديد': '<|meter_0|>', 'السريع': '<|meter_1|>', 'الرجز': '<|meter_2|>', 'الكامل': '<|meter_3|>', 'المتقارب': '<|meter_4|>', 'المجتث': '<|meter_5|>', 'المضارع': '<|meter_6|>', 'الخفيف': '<|meter_7|>', 'الرمل': '<|meter_8|>', 'البسيط': '<|meter_9|>', 'الهزج': '<|meter_10|>', 'الطويل': '<|meter_11|>', 'المنسرح': '<|meter_12|>', 'المقتضب': '<|meter_13|>', 'المتدارك': '<|meter_14|>', 'الوافر': '<|meter_15|>'}\n",
    "token_to_meter = {t:m for m,t in meter_to_token.items()}"
   ]
  },
  {
   "cell_type": "code",
   "execution_count": 37,
   "id": "c11b3637",
   "metadata": {},
   "outputs": [
    {
     "name": "stderr",
     "output_type": "stream",
     "text": [
      "Setting `pad_token_id` to `eos_token_id`:50256 for open-end generation.\n"
     ]
    }
   ],
   "source": [
    "model = AutoModelForCausalLM.from_pretrained('gpt_results_fix_tokens/checkpoint-25000')\n",
    "text = \"<|meter_2|>\"\n",
    "encoded_input = gpt_tokenizer(text, return_tensors='pt')\n",
    "output = model.generate(**encoded_input, max_length = 512, top_p = 3, do_sample=True)"
   ]
  },
  {
   "cell_type": "code",
   "execution_count": 38,
   "id": "a71f79b4-9d07-4e76-8fc4-86bdc7a8d268",
   "metadata": {},
   "outputs": [
    {
     "name": "stdout",
     "output_type": "stream",
     "text": [
      "\n",
      "قصيدة من بحر الرجز\n",
      "عجبتُ مِنه بجانحةٍ *** للمصطفى عن رِضا سَحرِ \n",
      "\n",
      "مع روضةٍ جَرَحَت وفا *** راحة مع وردةِ النَضرِ \n",
      "\n",
      "وزهرةٍ زهراءِ مشرقةٍ *** كالزهر في يومِ النَمرِ \n",
      "\n",
      "وردٍ بعينٍ مسفرة *** تجلو ذيال الُعُصفُرِ المُضرِ \n",
      "\n",
      "كالغصنِ في وجناتِه قَبَساً *** تُنَشِّق العجابَ بالنَكرِ \n",
      "\n",
      "أرددتَهُ نَظرْتَه مهجاً *** والياسمين كلّ مقتدرِ \n",
      "\n",
      "لَقَد عرفتُ سَوامه حُجَراً *** مثل الغصون على قَمرِ \n",
      "\n",
      "وزهرةِ عَدنانٍ بدَغتها *** بدرّةٍ في بَدَرٍ نُضْرِ \n",
      "\n",
      "كأنما الغُدوانُ رائقةٌ *** صبّاغةٌ عن غُصنها القَمري \n",
      "\n",
      "وكرّة فكرة جاذبة *** تمهي وتسقي ضيغمَ الثشرِ \n",
      "\n",
      "وافى على صوت الصَّبى ش\n"
     ]
    }
   ],
   "source": [
    "result = \"\"\n",
    "for i, beam in enumerate(output):\n",
    "    for token in beam:\n",
    "        decoded = gpt_tokenizer.decode(token)\n",
    "        # print(decoded)\n",
    "        if 'meter' in decoded:\n",
    "            result += 'قصيدة من بحر '+token_to_meter[decoded] \n",
    "        elif decoded == \"<|vsep|>\":\n",
    "            result += \"*** \"\n",
    "        elif decoded in [\"<|bsep|>\", \"</|bsep|>\"]:\n",
    "            result += \"\\n\"\n",
    "        elif decoded in ['<|psep|>', '</|psep|>']:\n",
    "            print()\n",
    "        else:\n",
    "            result += decoded\n",
    "print(result)"
   ]
  }
 ],
 "metadata": {
  "kernelspec": {
   "display_name": "Python 3 (ipykernel)",
   "language": "python",
   "name": "python3"
  },
  "language_info": {
   "codemirror_mode": {
    "name": "ipython",
    "version": 3
   },
   "file_extension": ".py",
   "mimetype": "text/x-python",
   "name": "python",
   "nbconvert_exporter": "python",
   "pygments_lexer": "ipython3",
   "version": "3.9.16"
  }
 },
 "nbformat": 4,
 "nbformat_minor": 5
}
